{
 "cells": [
  {
   "cell_type": "code",
   "execution_count": 8,
   "metadata": {},
   "outputs": [],
   "source": [
    "from qdrant_client import QdrantClient\n",
    "from qdrant_client.http.models import Distance, VectorParams\n",
    "from qdrant_client.http.models import PointStruct\n",
    "from qdrant_client.http.models import Filter, FieldCondition, MatchValue\n",
    "from pprint import pprint"
   ]
  },
  {
   "cell_type": "code",
   "execution_count": 2,
   "metadata": {},
   "outputs": [],
   "source": [
    "client = QdrantClient(host=\"localhost\", port=6333)"
   ]
  },
  {
   "cell_type": "code",
   "execution_count": 3,
   "metadata": {},
   "outputs": [],
   "source": [
    "collection_name = \"test_collection\""
   ]
  },
  {
   "cell_type": "code",
   "execution_count": 4,
   "metadata": {},
   "outputs": [],
   "source": [
    "# client.create_collection(\n",
    "#     collection_name=collection_name, vectors_config=VectorParams(size=4, distance=Distance.DOT)\n",
    "# )"
   ]
  },
  {
   "cell_type": "code",
   "execution_count": 10,
   "metadata": {},
   "outputs": [
    {
     "name": "stdout",
     "output_type": "stream",
     "text": [
      "UpdateResult(operation_id=3, status=<UpdateStatus.COMPLETED: 'completed'>)\n"
     ]
    }
   ],
   "source": [
    "operation_info = client.upsert(collection_name=collection_name, wait=True, points=[\n",
    "  PointStruct(id=1, vector=[0.05, 0.61, 0.76, 0.74], payload={\"continente\": \"Europa\", \"cidade\": \"Berlin\"}),\n",
    "  PointStruct(id=2, vector=[0.19, 0.81, 0.75, 0.11], payload={\"continente\": \"Europa\", \"cidade\": \"Londres\"}),\n",
    "  PointStruct(id=3, vector=[0.18, 0.01, 0.85, 0.80], payload={\"continente\": \"America\", \"cidade\": \"Nova York\"}),\n",
    "  PointStruct(id=4, vector=[0.24, 0.18, 0.22, 0.44], payload={\"continente\": \"Asia\", \"cidade\": \"Beijing\"}),\n",
    "  PointStruct(id=5, vector=[0.35, 0.08, 0.11, 0.44], payload={\"continente\": \"Asia\", \"cidade\": \"Mumbai\"}),\n",
    "])\n",
    "pprint(operation_info)"
   ]
  },
  {
   "cell_type": "code",
   "execution_count": 6,
   "metadata": {},
   "outputs": [
    {
     "name": "stdout",
     "output_type": "stream",
     "text": [
      "[ScoredPoint(id=3, version=2, score=1.362, payload={'cidade': 'Nova York', 'continente': 'America'}, vector=None, shard_key=None, order_value=None),\n",
      " ScoredPoint(id=1, version=2, score=1.273, payload={'cidade': 'Berlin', 'continente': 'Europa'}, vector=None, shard_key=None, order_value=None),\n",
      " ScoredPoint(id=2, version=2, score=0.871, payload={'cidade': 'Londres', 'continente': 'Europa'}, vector=None, shard_key=None, order_value=None)]\n"
     ]
    }
   ],
   "source": [
    "search_result = client.search(\n",
    "    collection_name=collection_name, query_vector=[0.2, 0.1, 0.9, 0.7], limit=3\n",
    ")\n",
    "\n",
    "pprint(search_result)"
   ]
  },
  {
   "cell_type": "code",
   "execution_count": 11,
   "metadata": {},
   "outputs": [
    {
     "name": "stdout",
     "output_type": "stream",
     "text": [
      "[ScoredPoint(id=4, version=3, score=0.572, payload={'cidade': 'Beijing', 'continente': 'Asia'}, vector=None, shard_key=None, order_value=None),\n",
      " ScoredPoint(id=5, version=3, score=0.485, payload={'cidade': 'Mumbai', 'continente': 'Asia'}, vector=None, shard_key=None, order_value=None)]\n"
     ]
    }
   ],
   "source": [
    "search_result = client.search(\n",
    "    collection_name=collection_name,\n",
    "    query_vector=[0.2, 0.1, 0.9, 0.7],\n",
    "    query_filter=Filter(must=[FieldCondition(key=\"continente\", match=MatchValue(value=\"Asia\"))]),\n",
    "    with_payload=True,\n",
    "    limit=3,\n",
    "    )\n",
    "\n",
    "pprint(search_result)"
   ]
  }
 ],
 "metadata": {
  "kernelspec": {
   "display_name": "venv",
   "language": "python",
   "name": "python3"
  },
  "language_info": {
   "codemirror_mode": {
    "name": "ipython",
    "version": 3
   },
   "file_extension": ".py",
   "mimetype": "text/x-python",
   "name": "python",
   "nbconvert_exporter": "python",
   "pygments_lexer": "ipython3",
   "version": "3.9.19"
  }
 },
 "nbformat": 4,
 "nbformat_minor": 2
}
